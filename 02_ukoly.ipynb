{
 "cells": [
  {
   "attachments": {},
   "cell_type": "markdown",
   "metadata": {},
   "source": [
    "# Prostory jmen a obor platnosti proměnných:\n",
    "- Upravte funkci nalézající prvočísla tak, aby ukládala již spočítané prvočísla do listu v defaultním argumentu funkce. \n"
   ]
  },
  {
   "cell_type": "code",
   "execution_count": 1,
   "metadata": {},
   "outputs": [],
   "source": [
    "#OLD:\n",
    "\"\"\"\n",
    "def nth_prime_2(idx:int):\n",
    "    num = 3\n",
    "    prime_list = [2]\n",
    "\n",
    "    if idx == 1:\n",
    "        return 2\n",
    "    \n",
    "    while idx > len(prime_list):\n",
    "        \n",
    "        is_prime = True\n",
    "\n",
    "        for prime in prime_list:\n",
    "            \n",
    "            if num % prime == 0:\n",
    "                is_prime = False\n",
    "        if is_prime:\n",
    "            prime_list.append(num)\n",
    "\n",
    "        num+=2\n",
    "\n",
    "    return num - 2\n",
    "\"\"\"\n",
    "#NEW:\n",
    "\n",
    "\n",
    "def nth_prime_2(idx:int, prime_list = []):\n",
    "    num = 3\n",
    "    #prime_list = [2]\n",
    "    if len(prime_list) == 0:\n",
    "        prime_list.append(2)\n",
    "    if idx == 1:\n",
    "        return 2\n",
    "    \n",
    "    #we could speed up this by checking len of prime_list and idx, if idx is smaller than the len, we can just return correct value from list\n",
    "\n",
    "    while idx > len(prime_list):\n",
    "        \n",
    "        is_prime = True\n",
    "\n",
    "        for prime in prime_list:\n",
    "            \n",
    "            if num % prime == 0:\n",
    "                is_prime = False\n",
    "        if is_prime:\n",
    "            #globals()[\"prime_list\"].append(num)\n",
    "            prime_list.append(num)\n",
    "        num+=2\n",
    "\n",
    "    return prime_list[idx-1]\n",
    "\n"
   ]
  },
  {
   "cell_type": "code",
   "execution_count": 2,
   "metadata": {},
   "outputs": [
    {
     "name": "stdout",
     "output_type": "stream",
     "text": [
      "CPU times: user 2 µs, sys: 0 ns, total: 2 µs\n",
      "Wall time: 5.72 µs\n",
      "2\n",
      "3\n",
      "5\n",
      "7\n",
      "11\n",
      "13\n",
      "17\n",
      "19\n",
      "23\n"
     ]
    }
   ],
   "source": [
    "%time\n",
    "for i in range(1,10):\n",
    "    print(nth_prime_2(i))\n"
   ]
  },
  {
   "cell_type": "code",
   "execution_count": 3,
   "metadata": {},
   "outputs": [
    {
     "name": "stdout",
     "output_type": "stream",
     "text": [
      "CPU times: user 1 µs, sys: 0 ns, total: 1 µs\n",
      "Wall time: 4.53 µs\n",
      "2\n",
      "3\n",
      "5\n",
      "7\n",
      "11\n",
      "13\n",
      "17\n",
      "19\n",
      "23\n"
     ]
    }
   ],
   "source": [
    "%time\n",
    "for i in range(1,10):\n",
    "    print(nth_prime_2(i, []))"
   ]
  },
  {
   "attachments": {},
   "cell_type": "markdown",
   "metadata": {},
   "source": [
    "\n",
    "# Jupyter magics:\n",
    "- použijte funkci %%writefile a pomocí ní (a kopie funkcí z posledního DU) vytvořte .py soubor sloužící jako modul mající tři funkce viz minulý DU\n",
    "- Použijte magic příkazy %time %timeit %%time a %%timeit k měření času běhu různých částí kódu (například funkcí z minulého DU).\n"
   ]
  },
  {
   "cell_type": "code",
   "execution_count": 4,
   "metadata": {},
   "outputs": [
    {
     "name": "stdout",
     "output_type": "stream",
     "text": [
      "Overwriting gigachad.py\n"
     ]
    }
   ],
   "source": [
    "%%writefile gigachad.py\n",
    "def square_approx(num_to_square, iter_num:int):\n",
    "    \n",
    "    \"\"\"\n",
    "    Return square approx using method above.\n",
    "    \"\"\"\n",
    "    \n",
    "    if num_to_square<0:\n",
    "        return \"Too complex for this function :(\"\n",
    "    \n",
    "    aprox = num_to_square\n",
    "    for i in range(iter_num):   \n",
    "        aprox = ((num_to_square/aprox)+aprox)/2\n",
    "    return aprox\n",
    "\n",
    "from math import pi \n",
    "\n",
    "def pi_approx_ancient(iter_num:int):\n",
    "    \"\"\"\n",
    "    approx pi with method explained above\n",
    "    \"\"\"\n",
    "    b_current = 1\n",
    "    v_current = square_approx(0.75,100)\n",
    "    a_current = 1\n",
    "    \n",
    "    for i in range(iter_num):\n",
    "\n",
    "        b_current = square_approx( (b_current/2) ** 2 + (1-v_current) ** 2, 100\n",
    "                                  )\n",
    "        v_current = square_approx( (a_current) ** 2 - (b_current/2) ** 2, 100)\n",
    "    \n",
    "    return 6*(2**iter_num)*b_current*v_current/2\n",
    "\n",
    "def pi_approx(iter_num):\n",
    "    summary = 0\n",
    "    i_a = 2\n",
    "    a = 1/16\n",
    "    for i in range(1,iter_num+1):\n",
    "        \n",
    "        summary += ( (1/(2*i + 1))*a )\n",
    "        a = a*( (2*i_a-3) /(2*i_a) ) * (1/4)\n",
    "        i_a +=1\n",
    "\n",
    "    return 12*( -( square_approx(3,100)/8 ) +(1/2) - summary)"
   ]
  },
  {
   "cell_type": "code",
   "execution_count": 5,
   "metadata": {},
   "outputs": [],
   "source": [
    "import gigachad"
   ]
  },
  {
   "cell_type": "code",
   "execution_count": 12,
   "metadata": {},
   "outputs": [
    {
     "name": "stdout",
     "output_type": "stream",
     "text": [
      "20.3 µs ± 364 ns per loop (mean ± std. dev. of 7 runs, 10,000 loops each)\n"
     ]
    }
   ],
   "source": [
    "%%timeit\n",
    "gigachad.pi_approx(100)"
   ]
  },
  {
   "cell_type": "code",
   "execution_count": null,
   "metadata": {},
   "outputs": [],
   "source": []
  },
  {
   "cell_type": "markdown",
   "metadata": {},
   "source": [
    "\n",
    "# Práce s řetězci:\n",
    "\n",
    "- Použíjte funkce z minulého úkolu a v cyklu spočtěte $\\pi$ s různým $n$. Pomocí f-strings vypište výsledky ve formátu \"n = 5, pi = 3.14159, počet správných cifer = 5\".\n"
   ]
  },
  {
   "cell_type": "code",
   "execution_count": 8,
   "metadata": {},
   "outputs": [
    {
     "name": "stdout",
     "output_type": "stream",
     "text": [
      "branch_test.txt  mein_wunderschon.py  README.md   01_ukoly.ipynb\n",
      "gigachad.py      \u001b[0m\u001b[01;34m__pycache__\u001b[0m/         test.ipynb  02_ukoly.ipynb\n"
     ]
    }
   ],
   "source": [
    "%ls"
   ]
  },
  {
   "cell_type": "markdown",
   "metadata": {},
   "source": [
    "\n",
    "# Generátory a iterátory:\n",
    "\n",
    "- Napište generátor (funkci), který vytváří Fibonacciho posloupnost a vrátí prvních $n$ členů.\n"
   ]
  },
  {
   "cell_type": "code",
   "execution_count": null,
   "metadata": {},
   "outputs": [],
   "source": []
  },
  {
   "cell_type": "markdown",
   "metadata": {},
   "source": [
    "\n",
    "# List comprehension:\n",
    "- Vytvořte seznam čísel od 1 do 10 pomocí list comprehension.\n",
    "- Vytvořte seznam druhých mocnin čísel od 1 do 10 pomocí list comprehension.\n",
    "- Vytvořte seznam prvočísel od 1 do 100 pomocí list comprehension. Hint (použijte funkci all() na generátor testující dělitelnost).\n"
   ]
  },
  {
   "cell_type": "code",
   "execution_count": null,
   "metadata": {},
   "outputs": [],
   "source": []
  },
  {
   "cell_type": "markdown",
   "metadata": {},
   "source": [
    "\n",
    "# Práce se soubory:\n",
    "- Pomocí %%writefile vytvořte soubor s nějakým textem.\n",
    "- Otevřete soubor pro čtení a vypište jeho obsah.\n",
    "- Otevřete jiný soubor pro zápis a napište do něj textový řetězec.\n",
    "- Pomocí f-strings zapište do souboru tabulku čísel od 1 do 10, jejich druhých mocnin a jejich druhých odmocnin."
   ]
  },
  {
   "cell_type": "code",
   "execution_count": 28,
   "metadata": {},
   "outputs": [
    {
     "name": "stdout",
     "output_type": "stream",
     "text": [
      "Overwriting randomtext.txt\n"
     ]
    }
   ],
   "source": [
    "%%writefile randomtext.txt\n",
    "\n",
    "\n",
    "\n",
    "\n",
    "blank lines go brrrrrr\n",
    "\n",
    "more blank lines"
   ]
  },
  {
   "cell_type": "code",
   "execution_count": 29,
   "metadata": {},
   "outputs": [
    {
     "name": "stdout",
     "output_type": "stream",
     "text": [
      "\n",
      "\n",
      "\n",
      "\n",
      "\n",
      "\n",
      "\n",
      "\n",
      "blank lines go brrrrrr\n",
      "\n",
      "\n",
      "\n",
      "more blank lines\n",
      "\n"
     ]
    }
   ],
   "source": [
    "my_file = open(\"randomtext.txt\",\"+rt\")\n",
    "for line in my_file:\n",
    "    print(line)"
   ]
  },
  {
   "attachments": {},
   "cell_type": "markdown",
   "metadata": {},
   "source": [
    "# Domácí úkol:\n",
    "Pomocí vlastních tříd a dědičnosti vytvořte \"soubor tříd\" = nástroj pro derivaci funkcí.\n",
    "\n",
    "Konkrétněji:\n",
    "- Vytvořte třídu **Operator**\n",
    "    - Třída bude mít metody:\n",
    "        - `__init__()` - inicializuje operátor (zde stačí `pass`)\n",
    "        - `__str__()` - vrací řetězec reprezentující operátor\n",
    "        - `__repr__()` - vrací řetězec reprezentující operátor\n",
    "- Vytvořte třídu **BinaryOperator**, která bude dědit od třídy Operator\n",
    "    - Třída bude mít atributy:\n",
    "        - `levy_argument` - levý operand\n",
    "        - `pravy_argument` - pravý operand\n",
    "    - Třída bude mít metody:\n",
    "        - `__init__()` - inicializuje operátor, přiřadí argumenty\n",
    "        - `__str__()` - vrací řetězec reprezentující operátor\n",
    "        - `__repr__()` - vrací řetězec reprezentující operátor\n",
    "        - `diff()` - vrací derivaci operátoru\n",
    "- Vytvořte třídu **UnaryOperator**, která bude dědit od třídy Operator\n",
    "    - Třída bude mít atributy:\n",
    "        - `argument` - argument funkce \n",
    "    - Třída bude mít metody:\n",
    "        - `__init__()` - inicializuje operátor, přiřadí argument\n",
    "        - `__str__()` - vrací řetězec reprezentující operátor\n",
    "        - `__repr__()` - vrací řetězec reprezentující operátor\n",
    "        - `diff()` - vrací derivaci operátoru\n",
    "\n",
    "Pro počítání derivací použijte standardní pravidla:\n",
    "- derivace součtu je součet derivací\n",
    "- pravidlo pro derivaci součinu\n",
    "- derivace funkce je derivovaná funkce násobená derivovaným argumentem\n",
    "\n",
    "Pro **BinaryOperator** a **UnaryOperator** implementujte také metody implementující standardní operátory:\n",
    "- `__add__()` - implementuje operátor `+`\n",
    "- `__sub__()` - implementuje operátor `-`\n",
    "- `__mul__()` - implementuje operátor `*`\n",
    "\n",
    "Pro **BinaryOperator** implementujte dvě dceřiné třídy:\n",
    "- **Addition** - implementuje operátor `+`\n",
    "- **Multiplication** - implementuje operátor `*`\n",
    "\n",
    "Pro **UnaryOperator** implementujte tyto dceřiné třídy:\n",
    "- **exp** - implementuje funkci `exp`\n",
    "- **sin** - implementuje funkci `sin`\n",
    "- **cos** - implementuje funkci `cos`\n",
    "- **ln** - implementuje funkci `ln`\n",
    "- **frc** - implementuje funkci `1/x`\n",
    "- **identity** - implementuje identitu `x`\n",
    "- **cst** - implementuje konstantu `c`\n",
    "- **mocnina** - implementuje mocninu `x^n`\n",
    "\n",
    "U všech funckí implementujte adekvátně metodu `diff()` a `__str__()`, tak aby se funkce vypisovaly v přehledné podobě.\n",
    "\n",
    "Ozkoušejte na následujících funkcích:\n",
    "- $sin(x + cos(x*x)) + 1$\n",
    "- $x^2 + 2x + 1 + 2x^2$\n",
    "- $x^2 + 2x + exp(x)$"
   ]
  },
  {
   "cell_type": "code",
   "execution_count": 182,
   "metadata": {},
   "outputs": [],
   "source": [
    "# kostra k doplnění, místa označená TODO doplňte\n",
    "\n",
    "class Operator:\n",
    "    def __init__(self):\n",
    "        pass\n",
    "    \n",
    "    def __str__(self):\n",
    "        return type(self).__name__\n",
    "    \n",
    "    def __repr__(self):\n",
    "        return self.__str__()\n",
    "    \n",
    "    def diff(self):\n",
    "        pass\n",
    "    \n",
    "    def __add__(self, other):\n",
    "        # TODO (použijte Addition)\n",
    "        return Addition(self,other)\n",
    "        pass\n",
    "    \n",
    "    def __sub__(self, other):\n",
    "        return Addition(self, Multiplication(other, cst(-1) ) )\n",
    "        # TODO (použijte Addition a Multiplication se zápornou konstantu)\n",
    "        pass\n",
    "    \n",
    "    def __mul__(self, other):\n",
    "        return Multiplication(self, other)\n",
    "        # TODO (použijte Multiplication)\n",
    "        pass\n",
    "    \n",
    "class BinaryOperator(Operator):\n",
    "    def __init__(self, levy_argument, pravy_argument):\n",
    "        self.levy_argument = levy_argument\n",
    "        self.pravy_argument = pravy_argument\n",
    "        \n",
    "class UnaryOperator(Operator):\n",
    "    def __init__(self, argument):\n",
    "        self.argument = argument\n",
    "    \n",
    "    def __str__(self):\n",
    "        \n",
    "        return type(self).__name__ + \"(\" + str(self.argument) + \")\"\n",
    "        \n",
    "class Addition(BinaryOperator):\n",
    "    def __str__(self):\n",
    "        # TODO vypíšeme něco jako (levy_argument)+(pravy_argument)\n",
    "        return f\"{self.levy_argument} + {self.pravy_argument}\"\n",
    "        pass\n",
    "    def diff(self):\n",
    "        return f\"{self.levy_argument.diff()} + {self.pravy_argument.diff()}\"\n",
    "        pass\n",
    "\n",
    "class Multiplication(BinaryOperator):\n",
    "    def __str__(self):\n",
    "        # TODO vypíšeme něco jako (levy_argument)*(pravy_argument)\n",
    "        return f\"{self.levy_argument} * {self.pravy_argument}\"\n",
    "        \n",
    "        pass\n",
    "    def diff(self):\n",
    "        return f\"{self.levy_argument} * {self.pravy_argument.diff()} * {self.pravy_argument}* {self.levy_argument.diff()}\"\n",
    "        # TODO\n",
    "        pass\n",
    "    "
   ]
  },
  {
   "cell_type": "code",
   "execution_count": 269,
   "metadata": {},
   "outputs": [],
   "source": [
    "class cst(UnaryOperator):\n",
    "    def __init__(self, value):\n",
    "        self.value = value\n",
    "    def __str__(self):\n",
    "        return f\"( {self.value} )\"\n",
    "        pass\n",
    "    def diff(self):\n",
    "        return f\"( {cst(0)} )\"\n",
    "        pass\n",
    "    \n",
    "class identity(UnaryOperator):\n",
    "    def __init__(self):\n",
    "        pass\n",
    "    def __str__(self):\n",
    "        return \"(x)\"\n",
    "        # TODO vypíšeme něco jako x   \n",
    "        pass\n",
    "    def diff(self):\n",
    "        return f\" ( {cst(1)} ) \"\n",
    "        # TODO\n",
    "        pass\n",
    "    \n",
    "class mocnina(UnaryOperator):\n",
    "    def __init__(self, argument, exponent):\n",
    "        self.argument = argument\n",
    "        self.exponent = exponent\n",
    "    def __str__(self):\n",
    "        return f\" ( {self.argument} ^ {self.exponent} ) \"\n",
    "        pass\n",
    "    def diff(self):\n",
    "        return f\" ( {cst(self.exponent)} * {mocnina(self.argument,self.exponent-1)} * {self.argument.diff()} ) \"\n",
    "        pass\n",
    "    \n",
    "class sin(UnaryOperator):\n",
    "    def diff(self):\n",
    "        return f\" ( {cos(self.argument)} * {self.argument.diff()} ) \"\n",
    "        #todo\n",
    "        pass\n",
    "\n",
    "class cos(UnaryOperator):\n",
    "    def diff(self):\n",
    "        return f\" ({cst(-1)} * {sin(self.argument)} * {self.argument.diff()}) \"\n",
    "        # TODO\n",
    "        pass\n",
    "\n",
    "class exp(UnaryOperator):\n",
    "    def diff(self):\n",
    "        return f\" ({self} * {self.argument.diff()})\"\n",
    "        pass\n",
    "    \n",
    "class ln(UnaryOperator):\n",
    "    def diff(self):\n",
    "        return f\" ({frc(self.argument)} * {self.argument.diff()}) \"\n",
    "        pass\n",
    "\n",
    "class frc(UnaryOperator):\n",
    "    def __str__(self):\n",
    "        return f\" (1 /( {self.argument}) ) \"\n",
    "        # TODO vypíšeme něco jako 1/(argument)\n",
    "        pass\n",
    "    \n",
    "    def diff(self):\n",
    "        return f\" ({cst(-1)} * {frc(self.argument)} ^ 2) * {self.argument.diff()})\"\n",
    "        pass"
   ]
  },
  {
   "cell_type": "code",
   "execution_count": 270,
   "metadata": {},
   "outputs": [
    {
     "name": "stdout",
     "output_type": "stream",
     "text": [
      "sin((x) + cos((x) * (x))) + ( 1 )\n",
      " ( cos((x) + cos((x) * (x))) *  ( ( 1 ) )  +  (( -1 ) * sin((x) * (x)) * (x) *  ( ( 1 ) )  * (x)*  ( ( 1 ) ) )  )  + ( ( 0 ) )\n",
      " (1 /(  ( (x) ^ 3 ) ) ) \n",
      " (( -1 ) *  (1 /(  ( (x) ^ 3 ) ) )  ^ 2) *  ( ( 3 ) *  ( (x) ^ 2 )  *  ( ( 1 ) )  ) )\n"
     ]
    }
   ],
   "source": [
    "# takto by se to mělo používat\n",
    "x = identity()\n",
    "f1 = sin(x + cos(x*x)) + cst(1)\n",
    "print(f1)\n",
    "print(f1.diff())\n",
    "\n",
    "f4 = frc(mocnina(x,3))\n",
    "print(f4)\n",
    "print(f4.diff())"
   ]
  },
  {
   "attachments": {},
   "cell_type": "markdown",
   "metadata": {},
   "source": [
    "můj výstup byl:\n",
    "\n",
    "`sin(x + cos((x)*(x))) + 1`\n",
    "\n",
    "`(cos(x + cos((x)*(x))))*(1 + ((-1)*(sin((x)*(x))))*((1)*(x) + (x)*(1))) + 0`"
   ]
  },
  {
   "cell_type": "code",
   "execution_count": 271,
   "metadata": {},
   "outputs": [
    {
     "name": "stdout",
     "output_type": "stream",
     "text": [
      " ( (x) ^ 2 )  + ( 2 ) * (x) + ( 1 ) + ( 2 ) *  ( (x) ^ 2 ) \n",
      " ( ( 2 ) *  ( (x) ^ 1 )  *  ( ( 1 ) )  )  + ( 2 ) *  ( ( 1 ) )  * (x)* ( ( 0 ) ) + ( ( 0 ) ) + ( 2 ) *  ( ( 2 ) *  ( (x) ^ 1 )  *  ( ( 1 ) )  )  *  ( (x) ^ 2 ) * ( ( 0 ) )\n"
     ]
    }
   ],
   "source": [
    "x = identity()\n",
    "# x ^ 2 + 2x + 1 + 2x ^ 2\n",
    "f2 = mocnina(x,2) + cst(2)*x + cst(1) + cst(2)*mocnina(x,2)\n",
    "print(f2)\n",
    "print(f2.diff())\n"
   ]
  },
  {
   "attachments": {},
   "cell_type": "markdown",
   "metadata": {},
   "source": [
    "můj výstup byl:\n",
    "\n",
    "`(x)^2 + (2)*(x) + 1 + (2)*((x)^2)`\n",
    "\n",
    "`((2)*((x)^1))*(1) + (0)*(x) + (2)*(1) + 0 + (0)*((x)^2) + (2)*(((2)*((x)^1))*(1))`"
   ]
  },
  {
   "cell_type": "code",
   "execution_count": 272,
   "metadata": {},
   "outputs": [
    {
     "name": "stdout",
     "output_type": "stream",
     "text": [
      " ( (x) ^ 2 )  + ( 2 ) * (x) + exp((x))\n",
      " ( ( 2 ) *  ( (x) ^ 1 )  *  ( ( 1 ) )  )  + ( 2 ) *  ( ( 1 ) )  * (x)* ( ( 0 ) ) +  (exp((x)) *  ( ( 1 ) ) )\n"
     ]
    }
   ],
   "source": [
    "x = identity()\n",
    "# x ^ 2 + 2x + exp(x)\n",
    "f3 = mocnina(x,2) + cst(2)*x + exp(x)\n",
    "print(f3)\n",
    "print(f3.diff())\n"
   ]
  },
  {
   "cell_type": "code",
   "execution_count": 273,
   "metadata": {},
   "outputs": [
    {
     "name": "stdout",
     "output_type": "stream",
     "text": [
      " (exp((x) * (x)) * (x) *  ( ( 1 ) )  * (x)*  ( ( 1 ) ) )\n"
     ]
    }
   ],
   "source": [
    "f5 = exp(x*x)\n",
    "print(f5.diff())"
   ]
  },
  {
   "cell_type": "code",
   "execution_count": 276,
   "metadata": {},
   "outputs": [
    {
     "name": "stdout",
     "output_type": "stream",
     "text": [
      "(x) + ( 2 ) * ( -1 )\n",
      " ( ( 1 ) )  + ( 2 ) * ( ( 0 ) ) * ( -1 )* ( ( 0 ) )\n"
     ]
    }
   ],
   "source": [
    "f = x-cst(2)\n",
    "print(f)\n",
    "print(f.diff())"
   ]
  },
  {
   "cell_type": "code",
   "execution_count": null,
   "metadata": {},
   "outputs": [],
   "source": [
    "\"\"\"\n",
    "Projel jsem všechny testy, + nějaké další vlastní a vypadá to, že všechno funguje, případné chyby budou typo nebo přehlednutí něčeho\n",
    "\"\"\""
   ]
  },
  {
   "attachments": {},
   "cell_type": "markdown",
   "metadata": {},
   "source": [
    "můj výstup byl:\n",
    "\n",
    "`(x)^2 + (2)*(x) + exp(x)`\n",
    "\n",
    "`((2)*((x)^1))*(1) + (0)*(x) + (2)*(1) + (exp(x))*(1)`\n"
   ]
  },
  {
   "attachments": {},
   "cell_type": "markdown",
   "metadata": {},
   "source": [
    "# Bonusový úkol:\n",
    "Doplňte ke všem třídám metodu `simplify()`, která provede zjednodušení výrazu. Například:\n",
    "- součet s nulou vrátí druhý operand\n",
    "- součin s nulou vrátí nulu\n",
    "- mocnina s exponentem 0 vrátí 1\n",
    "- mocnina s exponentem 1 vrátí první argument\n",
    "- součín dvou stejných argumentů vrátí mocninu s exponentem 2\n",
    "- součin konstant vrátí konstantu se součinem\n",
    "- ..."
   ]
  },
  {
   "cell_type": "code",
   "execution_count": 278,
   "metadata": {},
   "outputs": [
    {
     "name": "stdout",
     "output_type": "stream",
     "text": [
      "donezo\n"
     ]
    }
   ],
   "source": [
    "sanity_after_excercise  = -5\n",
    "if sanity_after_excercise < 0:\n",
    "    print(\"donezo\")\n",
    "else:\n",
    "    print(\"gonna fight this one\")"
   ]
  },
  {
   "cell_type": "markdown",
   "metadata": {},
   "source": []
  },
  {
   "cell_type": "markdown",
   "metadata": {},
   "source": []
  },
  {
   "cell_type": "markdown",
   "metadata": {},
   "source": []
  },
  {
   "cell_type": "markdown",
   "metadata": {},
   "source": []
  },
  {
   "cell_type": "markdown",
   "metadata": {},
   "source": []
  },
  {
   "cell_type": "markdown",
   "metadata": {},
   "source": [
    "\n"
   ]
  },
  {
   "cell_type": "markdown",
   "metadata": {},
   "source": []
  }
 ],
 "metadata": {
  "kernelspec": {
   "display_name": "Python 3",
   "language": "python",
   "name": "python3"
  },
  "language_info": {
   "codemirror_mode": {
    "name": "ipython",
    "version": 3
   },
   "file_extension": ".py",
   "mimetype": "text/x-python",
   "name": "python",
   "nbconvert_exporter": "python",
   "pygments_lexer": "ipython3",
   "version": "3.10.6"
  },
  "orig_nbformat": 4,
  "vscode": {
   "interpreter": {
    "hash": "e7370f93d1d0cde622a1f8e1c04877d8463912d04d973331ad4851f04de6915a"
   }
  }
 },
 "nbformat": 4,
 "nbformat_minor": 2
}
